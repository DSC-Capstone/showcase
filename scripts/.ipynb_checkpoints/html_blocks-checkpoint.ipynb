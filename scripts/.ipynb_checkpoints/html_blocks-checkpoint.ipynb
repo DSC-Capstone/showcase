{
 "cells": [
  {
   "cell_type": "code",
   "execution_count": 35,
   "id": "e0d0ced3",
   "metadata": {},
   "outputs": [],
   "source": [
    "import pandas as pd\n",
    "import numpy as np\n",
    "\n",
    "from IPython.display import display, HTML"
   ]
  },
  {
   "cell_type": "code",
   "execution_count": 36,
   "id": "e01f302f",
   "metadata": {},
   "outputs": [],
   "source": [
    "template_path = 'index-template.html'\n",
    "sheet_path = 'Public-Facing Block Assignments – DSC 180AB, 2022-23 - Sheet1.csv'"
   ]
  },
  {
   "cell_type": "code",
   "execution_count": 53,
   "id": "f8f96057",
   "metadata": {},
   "outputs": [],
   "source": [
    "toc_map = {}"
   ]
  },
  {
   "cell_type": "code",
   "execution_count": 63,
   "id": "bd9dc892",
   "metadata": {},
   "outputs": [],
   "source": [
    "format_anchor = lambda s: '-'.join(s[:-1].strip().lower().split())"
   ]
  },
  {
   "cell_type": "code",
   "execution_count": 79,
   "id": "dd089e17",
   "metadata": {},
   "outputs": [],
   "source": [
    "with open(template_path, 'r') as f:\n",
    "    template = f.read()\n",
    "    \n",
    "df = pd.read_csv(sheet_path)\n",
    "df = df.iloc[1:].reset_index(drop=True)\n",
    "\n",
    "def format_project(row):\n",
    "    return f'''\n",
    "<b>{row[\"Project Title\"]}</b>\n",
    "<p>Group {row[\"Group #\"]}: {row[\"Names\"]}</p>\n",
    "    '''\n",
    "\n",
    "def process_broad_area(area, block):\n",
    "    toc_map[block][area] = format_anchor(area)\n",
    "    out = f'<a name=\"{format_anchor(area)}\"></a>\\n<h4>{area}</h4>\\n'\n",
    "    area_df = df[df['Broad area'] == area].copy().sort_values('Group #')\n",
    "    for i, r in area_df.iterrows():\n",
    "        out += format_project(r) + '\\n'\n",
    "    return out + '\\n<br>'\n",
    "\n",
    "def process_block(block):\n",
    "    toc_map[block] = {}\n",
    "    out = f'<h3>Block {block}</h3>\\n<br>\\n'\n",
    "    for area in np.sort(df.loc[df['Block (see hdsishowcase.com)'] == block, 'Broad area'].unique()):\n",
    "        out += process_broad_area(area, block)\n",
    "        \n",
    "    return out + '\\n<br>\\n'\n",
    "\n",
    "def format_toc(toc_map):\n",
    "    out = '<h4>Table of Contents</h4>'\n",
    "    for block in toc_map:\n",
    "        out += f'<b>Block {block}</b>:'\n",
    "        out += '\\n<ul>'\n",
    "        for area in toc_map[block]:\n",
    "            out += f'<li><a href=\"#{toc_map[block][area]}\">{area}</a></li>\\n'\n",
    "        out += '\\n</ul>'\n",
    "    out += '\\n<br>'\n",
    "    return out\n",
    "\n",
    "def write_all():\n",
    "    out = format_toc(toc_map)\n",
    "    for block in np.sort(df['Block (see hdsishowcase.com)'].unique()):\n",
    "        out += process_block(block)\n",
    "    out = template.replace('### REPLACE ###', out)\n",
    "    with open('../index.html', 'w') as f:\n",
    "        f.write(out)\n",
    "        \n",
    "write_all()"
   ]
  }
 ],
 "metadata": {
  "kernelspec": {
   "display_name": "Python 3 (ipykernel)",
   "language": "python",
   "name": "python3"
  },
  "language_info": {
   "codemirror_mode": {
    "name": "ipython",
    "version": 3
   },
   "file_extension": ".py",
   "mimetype": "text/x-python",
   "name": "python",
   "nbconvert_exporter": "python",
   "pygments_lexer": "ipython3",
   "version": "3.9.7"
  }
 },
 "nbformat": 4,
 "nbformat_minor": 5
}
