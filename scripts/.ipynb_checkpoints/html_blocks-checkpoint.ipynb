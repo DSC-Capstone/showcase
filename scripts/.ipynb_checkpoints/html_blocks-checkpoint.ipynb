{
 "cells": [
  {
   "cell_type": "code",
   "execution_count": 35,
   "id": "e0d0ced3",
   "metadata": {},
   "outputs": [],
   "source": [
    "import pandas as pd\n",
    "import numpy as np\n",
    "\n",
    "from IPython.display import display, HTML"
   ]
  },
  {
   "cell_type": "code",
   "execution_count": 36,
   "id": "689f92d7",
   "metadata": {},
   "outputs": [],
   "source": [
    "template_path = 'index-template.html'\n",
    "sheet_path = 'Public-Facing Block Assignments – DSC 180AB, 2022-23 - Sheet1.csv'"
   ]
  },
  {
   "cell_type": "code",
   "execution_count": 47,
   "id": "dd089e17",
   "metadata": {},
   "outputs": [],
   "source": [
    "with open(template_path, 'r') as f:\n",
    "    template = f.read()\n",
    "    \n",
    "df = pd.read_csv(sheet_path)\n",
    "df = df.iloc[1:].reset_index(drop=True)\n",
    "\n",
    "def format_project(row):\n",
    "    return f'''\n",
    "<b>{row[\"Project Title\"]}</b>\n",
    "<p>Group {row[\"Group #\"]}: {row[\"Names\"]}</p>\n",
    "    '''\n",
    "\n",
    "def process_broad_area(broad_area):\n",
    "    out = f'<h3>{broad_area}</h3>\\n'\n",
    "    area_df = df[df['Broad area'] == broad_area].copy().sort_values('Group #')\n",
    "    for i, r in area_df.iterrows():\n",
    "        out += format_project(r) + '\\n'\n",
    "    return out + '\\n<br>'\n",
    "\n",
    "def process_block(block):\n",
    "    out = f'<h2>Block {block}</h2>\\n<br>\\n'\n",
    "    for area in df.loc[df['Block (see hdsishowcase.com)'] == block, 'Broad area'].unique():\n",
    "        out += process_broad_area(area)\n",
    "    return out + '\\n<br>\\n'\n",
    "\n",
    "def write_all():\n",
    "    out = ''\n",
    "    for block in df['Block (see hdsishowcase.com)'].unique():\n",
    "        out += process_block(block)\n",
    "    out = template.replace('### REPLACE ###', out)\n",
    "    with open('../index.html', 'w') as f:\n",
    "        f.write(out)\n",
    "        \n",
    "write_all()"
   ]
  },
  {
   "cell_type": "code",
   "execution_count": null,
   "id": "b2357161",
   "metadata": {},
   "outputs": [],
   "source": []
  }
 ],
 "metadata": {
  "kernelspec": {
   "display_name": "Python 3 (ipykernel)",
   "language": "python",
   "name": "python3"
  },
  "language_info": {
   "codemirror_mode": {
    "name": "ipython",
    "version": 3
   },
   "file_extension": ".py",
   "mimetype": "text/x-python",
   "name": "python",
   "nbconvert_exporter": "python",
   "pygments_lexer": "ipython3",
   "version": "3.9.7"
  }
 },
 "nbformat": 4,
 "nbformat_minor": 5
}
