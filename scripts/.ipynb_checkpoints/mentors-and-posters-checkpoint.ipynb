{
 "cells": [
  {
   "cell_type": "code",
   "execution_count": 41,
   "id": "56a3dad0",
   "metadata": {},
   "outputs": [],
   "source": [
    "# Loading and cleaning.\n",
    "titles = pd.read_csv('Public-Facing Block Assignments – DSC 180AB, 2022-23 - Sheet1.csv')\n",
    "titles = titles.iloc[1:].reset_index(drop=True)\n",
    "titles['Section'] = titles['Group #'].str.split('-').str[0]\n",
    "\n",
    "mentors = pd.read_csv('2022-23 Student-Facing Capstone Scheduling Sheet - Sheet3.csv', \n",
    "                      header=None)\n",
    "mentors.columns = ['Section', 'Mentors']\n",
    "\n",
    "posters = pd.read_csv('Poster links - Sheet1 (1).csv')\n",
    "posters['Group #'] = posters['File'].str.extract(r'([AB]\\d{2,3}-\\d)')\n",
    "\n",
    "titles = titles.merge(mentors, on='Section').merge(posters, on='Group #')"
   ]
  },
  {
   "cell_type": "code",
   "execution_count": 42,
   "id": "b212c270",
   "metadata": {
    "scrolled": false
   },
   "outputs": [],
   "source": []
  },
  {
   "cell_type": "code",
   "execution_count": null,
   "id": "d4225377",
   "metadata": {},
   "outputs": [],
   "source": []
  }
 ],
 "metadata": {
  "kernelspec": {
   "display_name": "Python 3 (ipykernel)",
   "language": "python",
   "name": "python3"
  },
  "language_info": {
   "codemirror_mode": {
    "name": "ipython",
    "version": 3
   },
   "file_extension": ".py",
   "mimetype": "text/x-python",
   "name": "python",
   "nbconvert_exporter": "python",
   "pygments_lexer": "ipython3",
   "version": "3.9.7"
  }
 },
 "nbformat": 4,
 "nbformat_minor": 5
}
